{
  "cells": [
    {
      "cell_type": "markdown",
      "metadata": {
        "id": "view-in-github",
        "colab_type": "text"
      },
      "source": [
        "<a href=\"https://colab.research.google.com/github/jijuarez12/Borrador/blob/main/Sesion4.ipynb\" target=\"_parent\"><img src=\"https://colab.research.google.com/assets/colab-badge.svg\" alt=\"Open In Colab\"/></a>"
      ]
    },
    {
      "cell_type": "markdown",
      "metadata": {
        "id": "rLLszin1nErU"
      },
      "source": [
        "$$\\textit{Introducción a LINUX}$$\n",
        "\n",
        "- Jesus Alvarado-Huayhuaz\n"
      ]
    },
    {
      "cell_type": "markdown",
      "metadata": {
        "id": "ggWwfssqt28x"
      },
      "source": [
        "# 2. Comandos básicos"
      ]
    },
    {
      "cell_type": "markdown",
      "metadata": {
        "id": "vbFVsKNhvyy4"
      },
      "source": [
        "**Tabla N°2**\n",
        "\n",
        "Comandos básicos para usuarios de Linux"
      ]
    },
    {
      "cell_type": "markdown",
      "metadata": {
        "id": "5khoDtixn5-H"
      },
      "source": [
        "| Comando             | Descripción                                                      |\n",
        "|---------------------|------------------------------------------------------------------|\n",
        "| `ls`                | Listar archivos y directorios en el directorio actual.           |\n",
        "| `cd <directorio>`   | Cambiar al directorio especificado.                              |\n",
        "| `pwd`               | Mostrar el directorio actual de trabajo.                         |\n",
        "| `mkdir <nombre>`    | Crear un nuevo directorio con el nombre especificado.            |\n",
        "| `touch <archivo>`   | Crear un nuevo archivo vacío con el nombre especificado.         |\n",
        "| `rm <archivo>`      | Eliminar un archivo.                                             |\n",
        "| `rm -r <directorio>`| Eliminar un directorio y su contenido de forma recursiva.        |\n",
        "| `cp <origen> <destino>` | Copiar archivos o directorios.                              |\n",
        "| `mv <origen> <destino>` | Mover o renombrar archivos o directorios.                   |\n",
        "| `cat <archivo>`     | Mostrar el contenido de un archivo.                             |\n",
        "| `head <archivo>`    | Mostrar las primeras líneas de un archivo.                       |\n",
        "| `tail <archivo>`    | Mostrar las últimas líneas de un archivo.                        |\n",
        "| `grep <patrón> <archivo>` | Buscar un patrón dentro de un archivo.                     |\n",
        "| `chmod <permisos> <archivo>` | Cambiar los permisos de un archivo.                      |\n",
        "| `chown <usuario> <archivo>` | Cambiar el propietario de un archivo.                     |\n",
        "| `ps`                | Mostrar los procesos en ejecución.                               |\n",
        "| `kill <PID>`        | Detener un proceso mediante su identificador de proceso (PID).   |\n",
        "| `man <comando>`     | Mostrar el manual de un comando específico.                      |\n",
        "| `sudo <comando>`    | Ejecutar un comando con privilegios de superusuario.             |\n",
        "| `history`           | Mostrar un historial de comandos utilizados anteriormente.       |"
      ]
    },
    {
      "cell_type": "markdown",
      "metadata": {
        "id": "CMTcTjC_uQU4"
      },
      "source": [
        "- En colab requerimos anteponer el símbolo \"!\" para ejecutar los comandos de linux.\n",
        "\n",
        "- Solamente en el caso de cambiar de directorio empleamos \"%\""
      ]
    },
    {
      "cell_type": "code",
      "execution_count": null,
      "metadata": {
        "colab": {
          "base_uri": "https://localhost:8080/"
        },
        "id": "9GTcX6Onn0l7",
        "outputId": "9801aaf6-ca66-4979-e7e8-cf599cb34bbd"
      },
      "outputs": [
        {
          "output_type": "stream",
          "name": "stdout",
          "text": [
            "sample_data\n"
          ]
        }
      ],
      "source": [
        "# Listar archivos y directorios en el directorio actual.\n",
        "!ls"
      ]
    },
    {
      "cell_type": "code",
      "execution_count": 2,
      "metadata": {
        "colab": {
          "base_uri": "https://localhost:8080/"
        },
        "id": "dZ3YDHzzuff8",
        "outputId": "c64bf46e-53f7-4d16-aeea-f058fc5856c6"
      },
      "outputs": [
        {
          "output_type": "stream",
          "name": "stdout",
          "text": [
            "/content/sample_data\n"
          ]
        }
      ],
      "source": [
        "# Cambiar al directorio especificado. Requerimos anteponer %cd\n",
        "%cd sample_data"
      ]
    },
    {
      "cell_type": "code",
      "execution_count": 3,
      "metadata": {
        "colab": {
          "base_uri": "https://localhost:8080/"
        },
        "id": "H09GUDZGuouW",
        "outputId": "6a304e37-94c8-4471-8c6d-eaf8ae77b82b"
      },
      "outputs": [
        {
          "output_type": "stream",
          "name": "stdout",
          "text": [
            "/content/sample_data\n"
          ]
        }
      ],
      "source": [
        "#Mostrar el directorio actual de trabajo.\n",
        "!pwd"
      ]
    },
    {
      "cell_type": "code",
      "execution_count": null,
      "metadata": {
        "colab": {
          "base_uri": "https://localhost:8080/"
        },
        "id": "-mD_xqMyunPr",
        "outputId": "8cbebf6d-a47c-439a-dbe6-a3a3ad9ddaf4"
      },
      "outputs": [
        {
          "output_type": "stream",
          "name": "stdout",
          "text": [
            "/content\n"
          ]
        }
      ],
      "source": [
        "# Volver al directorio anterior\n",
        "%cd -"
      ]
    },
    {
      "cell_type": "code",
      "source": [
        "# Qué usuario\n",
        "!whoami"
      ],
      "metadata": {
        "colab": {
          "base_uri": "https://localhost:8080/"
        },
        "id": "xBc6LBF7gH9a",
        "outputId": "1b55a867-2967-4ee4-fa1d-1c5714dd6e7c"
      },
      "execution_count": null,
      "outputs": [
        {
          "output_type": "stream",
          "name": "stdout",
          "text": [
            "root\n"
          ]
        }
      ]
    },
    {
      "cell_type": "code",
      "source": [
        "# Fecha\n",
        "!date"
      ],
      "metadata": {
        "colab": {
          "base_uri": "https://localhost:8080/"
        },
        "id": "Rx-zjy3PgPc0",
        "outputId": "0c02b842-8237-49a2-fe19-f6964f94000f"
      },
      "execution_count": null,
      "outputs": [
        {
          "output_type": "stream",
          "name": "stdout",
          "text": [
            "Tue Mar 26 04:04:15 PM UTC 2024\n"
          ]
        }
      ]
    },
    {
      "cell_type": "code",
      "source": [
        "# Historial de comandos (no colab)\n",
        "!history # > mis_comandos.txt"
      ],
      "metadata": {
        "id": "2l9TdkKsgXGx"
      },
      "execution_count": null,
      "outputs": []
    },
    {
      "cell_type": "code",
      "source": [
        "!whatis man"
      ],
      "metadata": {
        "colab": {
          "base_uri": "https://localhost:8080/"
        },
        "id": "F8UyeqqbnbhD",
        "outputId": "f24c6bf4-096c-4a36-c5b6-1eeefef3c995"
      },
      "execution_count": null,
      "outputs": [
        {
          "output_type": "stream",
          "name": "stdout",
          "text": [
            "man (1posix)         - display system documentation\n",
            "man (1)              - an interface to the system reference manuals\n",
            "man (7)              - macros to format man pages\n"
          ]
        }
      ]
    },
    {
      "cell_type": "code",
      "source": [
        "!ls --help"
      ],
      "metadata": {
        "id": "jr9yq8-xiUer"
      },
      "execution_count": null,
      "outputs": []
    },
    {
      "cell_type": "code",
      "execution_count": null,
      "metadata": {
        "id": "vkrxRakivAII"
      },
      "outputs": [],
      "source": [
        "# Prueba los comandos de la tabla N°2."
      ]
    },
    {
      "cell_type": "markdown",
      "metadata": {
        "id": "NXqleNQhwD0i"
      },
      "source": [
        "# 3. ¿Qué es el Shell?"
      ]
    },
    {
      "cell_type": "markdown",
      "metadata": {
        "id": "F1kUmBXnwHh3"
      },
      "source": [
        "El shell es la interfaz de acceso al sistema operativo, donde es posible interactuar con el sistema mediante comandos escritos desde el teclado."
      ]
    },
    {
      "cell_type": "markdown",
      "metadata": {
        "id": "BFLRYoTLxgPR"
      },
      "source": [
        "1. Script para imprimir un mensaje:"
      ]
    },
    {
      "cell_type": "code",
      "execution_count": 1,
      "metadata": {
        "colab": {
          "base_uri": "https://localhost:8080/"
        },
        "id": "_eO10-gywHAe",
        "outputId": "e7576cd8-eeb8-42b3-8ce2-3719d727e7f7"
      },
      "outputs": [
        {
          "output_type": "stream",
          "name": "stdout",
          "text": [
            "Hola, mundo!\n"
          ]
        }
      ],
      "source": [
        "!echo \"Hola, mundo!\""
      ]
    },
    {
      "cell_type": "markdown",
      "metadata": {
        "id": "vMrtdp5fxklK"
      },
      "source": [
        "2. Script para listar archivos en un directorio:"
      ]
    },
    {
      "cell_type": "code",
      "execution_count": null,
      "metadata": {
        "colab": {
          "base_uri": "https://localhost:8080/"
        },
        "id": "v5EuodF3xZsD",
        "outputId": "3e3a15e2-4750-4d7d-ac1c-664236e51ba8"
      },
      "outputs": [
        {
          "output_type": "stream",
          "name": "stdout",
          "text": [
            "Archivos en el directorio actual:\n",
            "sample_data\n"
          ]
        }
      ],
      "source": [
        "!echo \"Archivos en el directorio actual:\"\n",
        "!ls"
      ]
    },
    {
      "cell_type": "markdown",
      "metadata": {
        "id": "FoBoHe-HxsAt"
      },
      "source": [
        "3. Script para sumar dos números:"
      ]
    },
    {
      "cell_type": "code",
      "execution_count": 4,
      "metadata": {
        "colab": {
          "base_uri": "https://localhost:8080/"
        },
        "id": "OE6v2-IExpeF",
        "outputId": "a3d72143-4804-45d3-fa5f-4a60bec61f56"
      },
      "outputs": [
        {
          "output_type": "stream",
          "name": "stdout",
          "text": [
            "Ingrese el primer número:\n",
            "4\n",
            "Ingrese el segundo número:\n",
            "5\n",
            "La suma de  y  es: \n"
          ]
        }
      ],
      "source": [
        "!echo 'Ingrese el primer número:'\n",
        "!read num1\n",
        "!echo 'Ingrese el segundo número:'\n",
        "!read num2\n",
        "!suma=$((num1 + num2))\n",
        "!echo \"La suma de $num1 y $num2 es: $suma\""
      ]
    },
    {
      "cell_type": "markdown",
      "metadata": {
        "id": "zkG-TNW_1sm5"
      },
      "source": [
        "Cambia las comillas (\") por (') ¿Qué ocurre?"
      ]
    },
    {
      "cell_type": "code",
      "execution_count": null,
      "metadata": {
        "colab": {
          "base_uri": "https://localhost:8080/"
        },
        "id": "cqFE5O2w0gP8",
        "outputId": "6604aa44-651e-451a-e596-09137aaf15ea"
      },
      "outputs": [
        {
          "output_type": "stream",
          "name": "stdout",
          "text": [
            "Writing suma.bash\n"
          ]
        }
      ],
      "source": [
        "%%writefile suma.bash"
      ]
    },
    {
      "cell_type": "code",
      "execution_count": null,
      "metadata": {
        "id": "CjpWUsdA3AX1"
      },
      "outputs": [],
      "source": [
        "# Inserta el siguiente código en el archivo suma.bash:\n",
        "\"\"\"\n",
        "echo \"Ingrese el primer número:\"\n",
        "read num1\n",
        "echo \"Ingrese el segundo número:\"\n",
        "read num2\n",
        "suma=$((num1 + num2))\n",
        "echo \"La suma de $num1 y $num2 es: $suma\"\n",
        "\"\"\"\n",
        "# Guarda el archivo"
      ]
    },
    {
      "cell_type": "code",
      "execution_count": null,
      "metadata": {
        "colab": {
          "base_uri": "https://localhost:8080/"
        },
        "id": "1lUnQ6ay1edL",
        "outputId": "9ae31e62-1c6c-4d34-a573-e38d2b9b05d4"
      },
      "outputs": [
        {
          "output_type": "stream",
          "name": "stdout",
          "text": [
            "Ingrese el primer número:\n",
            "2\n",
            "Ingrese el segundo número:\n",
            "3\n",
            "La suma de 2 y 3 es: 5\n"
          ]
        }
      ],
      "source": [
        "!bash suma.bash"
      ]
    },
    {
      "cell_type": "code",
      "execution_count": null,
      "metadata": {
        "colab": {
          "base_uri": "https://localhost:8080/"
        },
        "id": "bL4tkB3hx0kX",
        "outputId": "521f4218-fc7e-4f02-e8b8-ace816f6681d"
      },
      "outputs": [
        {
          "output_type": "stream",
          "name": "stdout",
          "text": [
            "ingrese el primer número: 2\n",
            "ingrese el segundo número: 3\n",
            "La suma de 2 y 3 es: 5\n"
          ]
        }
      ],
      "source": [
        "# python\n",
        "\n",
        "num1 = int(input(\"ingrese el primer número: \"))\n",
        "num2 = int(input(\"ingrese el segundo número: \"))\n",
        "\n",
        "print(f\"La suma de {num1} y {num2} es: {num1+num2}\")"
      ]
    },
    {
      "cell_type": "markdown",
      "metadata": {
        "id": "sREfjd0Szc08"
      },
      "source": [
        "4. Script para comprobar si un archivo existe:"
      ]
    },
    {
      "cell_type": "code",
      "execution_count": null,
      "metadata": {
        "colab": {
          "base_uri": "https://localhost:8080/"
        },
        "id": "JB13yIQn3XY_",
        "outputId": "e528a7c1-9e20-48df-d658-09f008c83f84"
      },
      "outputs": [
        {
          "output_type": "stream",
          "name": "stdout",
          "text": [
            "Writing existe.bash\n"
          ]
        }
      ],
      "source": [
        "%%writefile existe.bash"
      ]
    },
    {
      "cell_type": "code",
      "execution_count": null,
      "metadata": {
        "id": "6ww7qozV8HlJ"
      },
      "outputs": [],
      "source": [
        "\"\"\" Contenido del archivo existe.bash\n",
        " #!/bin/bash\n",
        "# Comprobar si un archivo existe\n",
        "echo \"Ingrese el nombre del archivo:\"\n",
        "read filename\n",
        "if [ -e $filename ]; then\n",
        "  echo \"El archivo $filename existe.\"\n",
        "else\n",
        "  echo \"El archivo $filename no existe.\"\n",
        "fi\n",
        "\"\"\""
      ]
    },
    {
      "cell_type": "code",
      "execution_count": null,
      "metadata": {
        "colab": {
          "base_uri": "https://localhost:8080/"
        },
        "id": "oHgKadqp3mGo",
        "outputId": "0de52a05-cc10-4721-9547-00a01bd41cef"
      },
      "outputs": [
        {
          "output_type": "stream",
          "name": "stdout",
          "text": [
            "bash: existe.bash: No such file or directory\n"
          ]
        }
      ],
      "source": [
        "!bash existe.bash"
      ]
    },
    {
      "cell_type": "code",
      "source": [
        "# Busca contenido dentro de ese archivo\n",
        "!ls suma.bash -la"
      ],
      "metadata": {
        "colab": {
          "base_uri": "https://localhost:8080/"
        },
        "id": "Lc5EkKF7jEb0",
        "outputId": "afec53ad-1a2b-426e-e949-9c517e7f3c74"
      },
      "execution_count": null,
      "outputs": [
        {
          "output_type": "stream",
          "name": "stdout",
          "text": [
            "-rw-r--r-- 1 root root 153 Mar 26 15:59 suma.bash\n"
          ]
        }
      ]
    },
    {
      "cell_type": "code",
      "source": [
        "# busca el archivo llamado \"suma.bash\" e imprime el tipo de archivo\n",
        "!file suma.bash"
      ],
      "metadata": {
        "colab": {
          "base_uri": "https://localhost:8080/"
        },
        "id": "4f3TNWU_f9r1",
        "outputId": "a19911f7-70c3-42fd-fa85-9a2c88b78572"
      },
      "execution_count": null,
      "outputs": [
        {
          "output_type": "stream",
          "name": "stdout",
          "text": [
            "suma.bash: Unicode text, UTF-8 text\n"
          ]
        }
      ]
    },
    {
      "cell_type": "code",
      "source": [
        "# consultas la palabra \"archivo\" en el archivo \"existe.bash\"\n",
        "!grep \"archivo\" existe.bash"
      ],
      "metadata": {
        "colab": {
          "base_uri": "https://localhost:8080/"
        },
        "id": "ik5oghO5kuse",
        "outputId": "4691f4ea-1d66-451e-ab2a-01412aa3656b"
      },
      "execution_count": null,
      "outputs": [
        {
          "output_type": "stream",
          "name": "stdout",
          "text": [
            "# Comprobar si un archivo existe\n",
            "echo \"Ingrese el nombre del archivo:\"\n",
            "  echo \"El archivo $filename existe.\"\n",
            "  echo \"El archivo $filename no existe.\"\n"
          ]
        }
      ]
    },
    {
      "cell_type": "markdown",
      "metadata": {
        "id": "lS5Q8TWe33L9"
      },
      "source": [
        "5. Script para iterar sobre una lista de nombres:"
      ]
    },
    {
      "cell_type": "code",
      "execution_count": null,
      "metadata": {
        "colab": {
          "base_uri": "https://localhost:8080/"
        },
        "id": "qXvsa5B63-cs",
        "outputId": "22034280-c881-4195-9342-07752b8c39a2"
      },
      "outputs": [
        {
          "output_type": "stream",
          "name": "stdout",
          "text": [
            "Writing nombres.sh\n"
          ]
        }
      ],
      "source": [
        "%%writefile nombres.sh"
      ]
    },
    {
      "cell_type": "code",
      "execution_count": null,
      "metadata": {
        "id": "YFu4_9uN7_lH"
      },
      "outputs": [],
      "source": [
        "\"\"\"\n",
        "#!/bin/bash\n",
        "\n",
        "# Definir una lista de nombres\n",
        "nombres=(\"Juan\" \"María\" \"Pedro\" \"Ana\" \"Luis\")\n",
        "\n",
        "# Recorrer la lista de nombres e imprimir cada uno\n",
        "echo \"Los nombres son:\"\n",
        "for nombre in \"${nombres[@]}\"; do\n",
        "    echo \"$nombre\"\n",
        "done\n",
        "\"\"\""
      ]
    },
    {
      "cell_type": "code",
      "execution_count": null,
      "metadata": {
        "colab": {
          "base_uri": "https://localhost:8080/"
        },
        "id": "rQ9pPmNI4Iqg",
        "outputId": "d0fc0649-565e-4307-a262-78fb84a51282"
      },
      "outputs": [
        {
          "output_type": "stream",
          "name": "stdout",
          "text": [
            "Los nombres son:\n",
            "Juan\n",
            "María\n",
            "Pedro\n",
            "Ana\n",
            "Luis\n"
          ]
        }
      ],
      "source": [
        "!bash nombres.sh"
      ]
    },
    {
      "cell_type": "markdown",
      "source": [
        "6. Script para buscar una palabra en un archivo"
      ],
      "metadata": {
        "id": "PVxghvLqfsQ1"
      }
    },
    {
      "cell_type": "code",
      "source": [
        "%%writefile busca_palabra.sh"
      ],
      "metadata": {
        "colab": {
          "base_uri": "https://localhost:8080/"
        },
        "id": "5_Tib7GhgFSE",
        "outputId": "4bdd29bf-178b-41c4-cc80-179c71fed6cf"
      },
      "execution_count": null,
      "outputs": [
        {
          "output_type": "stream",
          "name": "stdout",
          "text": [
            "Writing busca_palabra.sh\n"
          ]
        }
      ]
    },
    {
      "cell_type": "code",
      "source": [
        "\"\"\"\n",
        "#!/bin/bash\n",
        "\n",
        "# Solicitar al usuario que ingrese la palabra a buscar\n",
        "echo \"Ingrese la palabra a buscar:\"\n",
        "read word\n",
        "\n",
        "# Solicitar al usuario que ingrese el nombre del archivo\n",
        "echo \"Ingrese el nombre del archivo:\"\n",
        "read filename\n",
        "\n",
        "# Verificar si el archivo existe\n",
        "if [ -e \"$filename\" ]; then\n",
        "    # Utilizar el comando grep para buscar la palabra en el archivo\n",
        "    if grep -q \"$word\" \"$filename\"; then\n",
        "        echo \"La palabra '$word' fue encontrada en el archivo '$filename'.\"\n",
        "    else\n",
        "        echo \"La palabra '$word' no fue encontrada en el archivo '$filename'.\"\n",
        "    fi\n",
        "else\n",
        "    echo \"El archivo '$filename' no existe.\"\n",
        "fi\n",
        "\"\"\""
      ],
      "metadata": {
        "id": "WxkLL_7sghnt"
      },
      "execution_count": null,
      "outputs": []
    },
    {
      "cell_type": "code",
      "source": [
        "# Disponer de un archivo de texto:\n",
        "!cp sample_data/README.md ."
      ],
      "metadata": {
        "id": "1Tib_1TshHH3"
      },
      "execution_count": null,
      "outputs": []
    },
    {
      "cell_type": "code",
      "source": [
        "!bash busca_palabra.sh"
      ],
      "metadata": {
        "colab": {
          "base_uri": "https://localhost:8080/"
        },
        "id": "fHs2I4d3ghkx",
        "outputId": "e7b0f21d-e502-4743-ce94-d95d93d6e35a"
      },
      "execution_count": null,
      "outputs": [
        {
          "output_type": "stream",
          "name": "stdout",
          "text": [
            "Ingrese la palabra a buscar:\n",
            "alifornia\n",
            "Ingrese el nombre del archivo:\n",
            "README.md\n",
            "La palabra 'alifornia' fue encontrada en el archivo 'README.md'.\n"
          ]
        }
      ]
    },
    {
      "cell_type": "markdown",
      "metadata": {
        "id": "LDWDdWEG7wWM"
      },
      "source": [
        "# 4. Simulador de dados"
      ]
    },
    {
      "cell_type": "markdown",
      "metadata": {
        "id": "Y7G6r8R88lnd"
      },
      "source": [
        "El siguiente script en shell simula tirar 2 dados y entrega la suma de ellos"
      ]
    },
    {
      "cell_type": "code",
      "execution_count": null,
      "metadata": {
        "colab": {
          "base_uri": "https://localhost:8080/"
        },
        "id": "1FeR6LWH8Wh4",
        "outputId": "98c80f9a-9789-42d1-fa3f-cd6f88c9082b"
      },
      "outputs": [
        {
          "output_type": "stream",
          "name": "stdout",
          "text": [
            "Writing dados.sh\n"
          ]
        }
      ],
      "source": [
        "%%writefile dados.sh"
      ]
    },
    {
      "cell_type": "code",
      "execution_count": null,
      "metadata": {
        "id": "_hdZbfPv7vXW"
      },
      "outputs": [],
      "source": [
        "\"\"\" Contenido del archivo dados.sh\n",
        "#!/bin/bash\n",
        "\n",
        "echo \"Simulador de dados\"\n",
        "\n",
        "read -p \"Presiona Enter para tirar los dados...\"\n",
        "\n",
        "# Genera un número aleatorio entre 1 y 6 para cada dado\n",
        "dado1=$((RANDOM % 6 + 1))\n",
        "dado2=$((RANDOM % 6 + 1))\n",
        "\n",
        "echo \"Dado 1: $dado1\"\n",
        "echo \"Dado 2: $dado2\"\n",
        "\n",
        "# Calcula la suma de los números de los dados\n",
        "suma=$((dado1 + dado2))\n",
        "echo \"La suma de los dados es: $suma\"\n",
        "\n",
        "\"\"\""
      ]
    },
    {
      "cell_type": "code",
      "execution_count": null,
      "metadata": {
        "colab": {
          "base_uri": "https://localhost:8080/"
        },
        "id": "eZVxwHKG8U0C",
        "outputId": "c3e5dd45-b510-4cec-a3d7-feda6e1f828f"
      },
      "outputs": [
        {
          "output_type": "stream",
          "name": "stdout",
          "text": [
            "Simulador de dados\n",
            "Presiona Enter para tirar los dados...\n",
            "Dado 1: 6\n",
            "Dado 2: 4\n",
            "La suma de los dados es: 10\n"
          ]
        }
      ],
      "source": [
        "!bash dados.sh"
      ]
    },
    {
      "cell_type": "markdown",
      "source": [
        "Generar ejercicio de lanzamiento de varias veces y graficar (matplotlib)"
      ],
      "metadata": {
        "id": "cqTfNRMWpwja"
      }
    },
    {
      "cell_type": "markdown",
      "metadata": {
        "id": "aV-SkUu2-UqC"
      },
      "source": [
        "# 5. Documentación"
      ]
    },
    {
      "cell_type": "code",
      "execution_count": null,
      "metadata": {
        "colab": {
          "base_uri": "https://localhost:8080/"
        },
        "id": "kD3Gv7-P8dlU",
        "outputId": "ee22c39a-d60f-45c3-b505-e0abcf3adcd0"
      },
      "outputs": [
        {
          "name": "stdout",
          "output_type": "stream",
          "text": [
            "cd: cd [-L|[-P [-e]] [-@]] [dir]\n",
            "    Change the shell working directory.\n",
            "    \n",
            "    Change the current directory to DIR.  The default DIR is the value of the\n",
            "    HOME shell variable.\n",
            "    \n",
            "    The variable CDPATH defines the search path for the directory containing\n",
            "    DIR.  Alternative directory names in CDPATH are separated by a colon (:).\n",
            "    A null directory name is the same as the current directory.  If DIR begins\n",
            "    with a slash (/), then CDPATH is not used.\n",
            "    \n",
            "    If the directory is not found, and the shell option `cdable_vars' is set,\n",
            "    the word is assumed to be  a variable name.  If that variable has a value,\n",
            "    its value is used for DIR.\n",
            "    \n",
            "    Options:\n",
            "      -L\tforce symbolic links to be followed: resolve symbolic\n",
            "    \t\tlinks in DIR after processing instances of `..'\n",
            "      -P\tuse the physical directory structure without following\n",
            "    \t\tsymbolic links: resolve symbolic links in DIR before\n",
            "    \t\tprocessing instances of `..'\n",
            "      -e\tif the -P option is supplied, and the current working\n",
            "    \t\tdirectory cannot be determined successfully, exit with\n",
            "    \t\ta non-zero status\n",
            "      -@\ton systems that support it, present a file with extended\n",
            "    \t\tattributes as a directory containing the file attributes\n",
            "    \n",
            "    The default is to follow symbolic links, as if `-L' were specified.\n",
            "    `..' is processed by removing the immediately previous pathname component\n",
            "    back to a slash or the beginning of DIR.\n",
            "    \n",
            "    Exit Status:\n",
            "    Returns 0 if the directory is changed, and if $PWD is set successfully when\n",
            "    -P is used; non-zero otherwise.\n"
          ]
        }
      ],
      "source": [
        "!help cd"
      ]
    },
    {
      "cell_type": "code",
      "execution_count": null,
      "metadata": {
        "colab": {
          "base_uri": "https://localhost:8080/"
        },
        "id": "vyGvBewq-bnE",
        "outputId": "797d050c-6cf6-4d80-b840-da1b07628567"
      },
      "outputs": [
        {
          "name": "stdout",
          "output_type": "stream",
          "text": [
            "Usage: ls [OPTION]... [FILE]...\n",
            "List information about the FILEs (the current directory by default).\n",
            "Sort entries alphabetically if none of -cftuvSUX nor --sort is specified.\n",
            "\n",
            "Mandatory arguments to long options are mandatory for short options too.\n",
            "  -a, --all                  do not ignore entries starting with .\n",
            "  -A, --almost-all           do not list implied . and ..\n",
            "      --author               with -l, print the author of each file\n",
            "  -b, --escape               print C-style escapes for nongraphic characters\n",
            "      --block-size=SIZE      with -l, scale sizes by SIZE when printing them;\n",
            "                               e.g., '--block-size=M'; see SIZE format below\n",
            "  -B, --ignore-backups       do not list implied entries ending with ~\n",
            "  -c                         with -lt: sort by, and show, ctime (time of last\n",
            "                               modification of file status information);\n",
            "                               with -l: show ctime and sort by name;\n",
            "                               otherwise: sort by ctime, newest first\n",
            "  -C                         list entries by columns\n",
            "      --color[=WHEN]         colorize the output; WHEN can be 'always' (default\n",
            "                               if omitted), 'auto', or 'never'; more info below\n",
            "  -d, --directory            list directories themselves, not their contents\n",
            "  -D, --dired                generate output designed for Emacs' dired mode\n",
            "  -f                         do not sort, enable -aU, disable -ls --color\n",
            "  -F, --classify             append indicator (one of */=>@|) to entries\n",
            "      --file-type            likewise, except do not append '*'\n",
            "      --format=WORD          across -x, commas -m, horizontal -x, long -l,\n",
            "                               single-column -1, verbose -l, vertical -C\n",
            "      --full-time            like -l --time-style=full-iso\n",
            "  -g                         like -l, but do not list owner\n",
            "      --group-directories-first\n",
            "                             group directories before files;\n",
            "                               can be augmented with a --sort option, but any\n",
            "                               use of --sort=none (-U) disables grouping\n",
            "  -G, --no-group             in a long listing, don't print group names\n",
            "  -h, --human-readable       with -l and -s, print sizes like 1K 234M 2G etc.\n",
            "      --si                   likewise, but use powers of 1000 not 1024\n",
            "  -H, --dereference-command-line\n",
            "                             follow symbolic links listed on the command line\n",
            "      --dereference-command-line-symlink-to-dir\n",
            "                             follow each command line symbolic link\n",
            "                               that points to a directory\n",
            "      --hide=PATTERN         do not list implied entries matching shell PATTERN\n",
            "                               (overridden by -a or -A)\n",
            "      --hyperlink[=WHEN]     hyperlink file names; WHEN can be 'always'\n",
            "                               (default if omitted), 'auto', or 'never'\n",
            "      --indicator-style=WORD  append indicator with style WORD to entry names:\n",
            "                               none (default), slash (-p),\n",
            "                               file-type (--file-type), classify (-F)\n",
            "  -i, --inode                print the index number of each file\n",
            "  -I, --ignore=PATTERN       do not list implied entries matching shell PATTERN\n",
            "  -k, --kibibytes            default to 1024-byte blocks for disk usage;\n",
            "                               used only with -s and per directory totals\n",
            "  -l                         use a long listing format\n",
            "  -L, --dereference          when showing file information for a symbolic\n",
            "                               link, show information for the file the link\n",
            "                               references rather than for the link itself\n",
            "  -m                         fill width with a comma separated list of entries\n",
            "  -n, --numeric-uid-gid      like -l, but list numeric user and group IDs\n",
            "  -N, --literal              print entry names without quoting\n",
            "  -o                         like -l, but do not list group information\n",
            "  -p, --indicator-style=slash\n",
            "                             append / indicator to directories\n",
            "  -q, --hide-control-chars   print ? instead of nongraphic characters\n",
            "      --show-control-chars   show nongraphic characters as-is (the default,\n",
            "                               unless program is 'ls' and output is a terminal)\n",
            "  -Q, --quote-name           enclose entry names in double quotes\n",
            "      --quoting-style=WORD   use quoting style WORD for entry names:\n",
            "                               literal, locale, shell, shell-always,\n",
            "                               shell-escape, shell-escape-always, c, escape\n",
            "                               (overrides QUOTING_STYLE environment variable)\n",
            "  -r, --reverse              reverse order while sorting\n",
            "  -R, --recursive            list subdirectories recursively\n",
            "  -s, --size                 print the allocated size of each file, in blocks\n",
            "  -S                         sort by file size, largest first\n",
            "      --sort=WORD            sort by WORD instead of name: none (-U), size (-S),\n",
            "                               time (-t), version (-v), extension (-X)\n",
            "      --time=WORD            change the default of using modification times;\n",
            "                               access time (-u): atime, access, use;\n",
            "                               change time (-c): ctime, status;\n",
            "                               birth time: birth, creation;\n",
            "                             with -l, WORD determines which time to show;\n",
            "                             with --sort=time, sort by WORD (newest first)\n",
            "      --time-style=TIME_STYLE  time/date format with -l; see TIME_STYLE below\n",
            "  -t                         sort by time, newest first; see --time\n",
            "  -T, --tabsize=COLS         assume tab stops at each COLS instead of 8\n",
            "  -u                         with -lt: sort by, and show, access time;\n",
            "                               with -l: show access time and sort by name;\n",
            "                               otherwise: sort by access time, newest first\n",
            "  -U                         do not sort; list entries in directory order\n",
            "  -v                         natural sort of (version) numbers within text\n",
            "  -w, --width=COLS           set output width to COLS.  0 means no limit\n",
            "  -x                         list entries by lines instead of by columns\n",
            "  -X                         sort alphabetically by entry extension\n",
            "  -Z, --context              print any security context of each file\n",
            "  -1                         list one file per line.  Avoid '\\n' with -q or -b\n",
            "      --help     display this help and exit\n",
            "      --version  output version information and exit\n",
            "\n",
            "The SIZE argument is an integer and optional unit (example: 10K is 10*1024).\n",
            "Units are K,M,G,T,P,E,Z,Y (powers of 1024) or KB,MB,... (powers of 1000).\n",
            "Binary prefixes can be used, too: KiB=K, MiB=M, and so on.\n",
            "\n",
            "The TIME_STYLE argument can be full-iso, long-iso, iso, locale, or +FORMAT.\n",
            "FORMAT is interpreted like in date(1).  If FORMAT is FORMAT1<newline>FORMAT2,\n",
            "then FORMAT1 applies to non-recent files and FORMAT2 to recent files.\n",
            "TIME_STYLE prefixed with 'posix-' takes effect only outside the POSIX locale.\n",
            "Also the TIME_STYLE environment variable sets the default style to use.\n",
            "\n",
            "Using color to distinguish file types is disabled both by default and\n",
            "with --color=never.  With --color=auto, ls emits color codes only when\n",
            "standard output is connected to a terminal.  The LS_COLORS environment\n",
            "variable can change the settings.  Use the dircolors command to set it.\n",
            "\n",
            "Exit status:\n",
            " 0  if OK,\n",
            " 1  if minor problems (e.g., cannot access subdirectory),\n",
            " 2  if serious trouble (e.g., cannot access command-line argument).\n",
            "\n",
            "GNU coreutils online help: <https://www.gnu.org/software/coreutils/>\n",
            "Full documentation <https://www.gnu.org/software/coreutils/ls>\n",
            "or available locally via: info '(coreutils) ls invocation'\n"
          ]
        }
      ],
      "source": [
        "!ls --help"
      ]
    },
    {
      "cell_type": "code",
      "execution_count": null,
      "metadata": {
        "colab": {
          "base_uri": "https://localhost:8080/"
        },
        "id": "i4MiC48e-je2",
        "outputId": "18189513-bea5-40cc-cc60-610fc0520ffb"
      },
      "outputs": [
        {
          "name": "stdout",
          "output_type": "stream",
          "text": [
            "This system has been minimized by removing packages and content that are\n",
            "not required on a system that users do not log into.\n",
            "\n",
            "To restore this content, including manpages, you can run the 'unminimize'\n",
            "command. You will still need to ensure the 'man-db' package is installed.\n"
          ]
        }
      ],
      "source": [
        "!man ls"
      ]
    },
    {
      "cell_type": "code",
      "execution_count": null,
      "metadata": {
        "id": "yxor9t7RATDk"
      },
      "outputs": [],
      "source": [
        "!whatis ls"
      ]
    },
    {
      "cell_type": "markdown",
      "metadata": {
        "id": "by2xzKWX_Zow"
      },
      "source": [
        "# 6. Lectura y edición"
      ]
    },
    {
      "cell_type": "code",
      "execution_count": null,
      "metadata": {
        "colab": {
          "background_save": true
        },
        "id": "xCPOf8Z8_N3t"
      },
      "outputs": [],
      "source": [
        "# Se recomienda el uso de vim para edición y lectura de grandes archivos\n",
        "# \"less\" unicamente para lectura, sale de tal ventana con la tecla \"q\"\n",
        "# cat imprime el texto en la salida de la celda"
      ]
    },
    {
      "cell_type": "code",
      "execution_count": null,
      "metadata": {
        "id": "ej7uivRp_KR3"
      },
      "outputs": [],
      "source": [
        "!cat archivo.txt"
      ]
    },
    {
      "cell_type": "code",
      "execution_count": null,
      "metadata": {
        "id": "W_Yvie2a-5Zm"
      },
      "outputs": [],
      "source": [
        "# creamos un nuevo archivo llamado mi_archivo\n",
        "!touch mi_archivo"
      ]
    },
    {
      "cell_type": "markdown",
      "metadata": {
        "id": "zVoMTgMtLl5z"
      },
      "source": [
        "# 7. Localizando archivos en el sistema"
      ]
    },
    {
      "cell_type": "code",
      "execution_count": null,
      "metadata": {
        "colab": {
          "background_save": true
        },
        "id": "k0ZaPeVULolM",
        "outputId": "b5ddc757-b486-456a-90f0-3680914bc146"
      },
      "outputs": [
        {
          "name": "stdout",
          "output_type": "stream",
          "text": [
            "./suma.bash\n"
          ]
        }
      ],
      "source": [
        "!find . -name suma.bash"
      ]
    },
    {
      "cell_type": "code",
      "execution_count": null,
      "metadata": {
        "id": "DjCGDSgKL0Y8"
      },
      "outputs": [],
      "source": [
        "!find /content/sample_data -name README.md"
      ]
    },
    {
      "cell_type": "code",
      "execution_count": null,
      "metadata": {
        "id": "KTg3_IhLMKuk"
      },
      "outputs": [],
      "source": [
        "!find /content/sample_data -name *sh*"
      ]
    },
    {
      "cell_type": "code",
      "execution_count": null,
      "metadata": {
        "id": "WT_piqtqNX1u"
      },
      "outputs": [],
      "source": [
        "!pip install vim"
      ]
    },
    {
      "cell_type": "code",
      "execution_count": null,
      "metadata": {
        "id": "mBtUte7LNXxE",
        "colab": {
          "base_uri": "https://localhost:8080/"
        },
        "outputId": "359bb78a-cea8-473a-d65f-ba977ed360e8"
      },
      "outputs": [
        {
          "output_type": "stream",
          "name": "stdout",
          "text": [
            "2 files to edit\n",
            "\u001b7\u001b[?47h\u001b[>4;2m\u001b[?1h\u001b=\u001b[?2004h\u001b[?1004h\u001b[1;24r\u001b[?12h\u001b[?12l\u001b[22;2t\u001b[22;1t\u001b[29m\u001b[m\u001b[H\u001b[2J\u001b[?25l\u001b[24;1H\"nombres.sh\" 8L, 169B\u001b[2;1H▽\u001b[6n\u001b[2;1H  \u001b[3;1H\u001bPzz\u001b\\\u001b[0%m\u001b[6n\u001b[3;1H           \u001b[1;1H\u001b[>c\u001b]10;?\u0007\u001b]11;?\u0007\u001b[1;2H\u001b[34m#!/bin/bash\r\n",
            "# Iterar sobre una lista de nombres\u001b[m\u001b[2;36H\u001b[K\u001b[3;1H\u001b[36mnombres\u001b[m=\u001b[35m(\u001b[m\u001b[33m\"\u001b[m\u001b[31mJuan\u001b[m\u001b[33m\"\u001b[m \u001b[33m\"\u001b[m\u001b[31mMarí\u001b[3;22Ha\u001b[m\u001b[33m\"\u001b[m \u001b[33m\"\u001b[m\u001b[31mCarlos\u001b[m\u001b[33m\"\u001b[m \u001b[33m\"\u001b[m\u001b[31mAna\u001b[m\u001b[33m\"\u001b[m\u001b[35m)\u001b[m\u001b[3;40H\u001b[K\u001b[4;1H\u001b[33mecho\u001b[m\u001b[31m \u001b[m\u001b[33m\"\u001b[m\u001b[31mLos nombres son:\u001b[m\u001b[33m\"\r\n",
            "for\u001b[m nombre \u001b[33min\u001b[m \u001b[33m\"\u001b[m\u001b[35m${nombres[\u001b[m@\u001b[35m]}\u001b[m\u001b[33m\"\r\n",
            "do\r\n",
            "\u001b[m    \u001b[33mecho\u001b[m\u001b[31m \u001b[m\u001b[35m$nombre\u001b[m\r\n",
            "\u001b[33mdone\u001b[m\n",
            "\u001b[1m\u001b[34m~                                                                                                   \u001b[10;1H~                                                                                                   \u001b[11;1H~                                                                                                   \u001b[12;1H~                                                                                                   \u001b[13;1H~                                                                                                   \u001b[14;1H~                                                                                                   \u001b[15;1H~                                                                                                   \u001b[16;1H~                                                                                                   \u001b[17;1H~                                                                                                   \u001b[18;1H~                                                                                                   \u001b[19;1H~                                                                                                   \u001b[20;1H~                                                                                                   \u001b[21;1H~                                                                                                   \u001b[22;1H~                                                                                                   \u001b[23;1H~                                                                                                   \u001b[m\u001b[24;83H1,1\u001b[11CAll\u001b[1;1H\u001b[?25h\u001b[24;1H\u001b[?1004l\u001b[?2004l\u001b[?1l\u001b>\u001b[>4;m\u001b[2J\u001b[?47l\u001b8Vim: Caught deadly signal TERM\n",
            "Vim: Finished.\n",
            "\u001b[24;1H\u001b[23;2t\u001b[23;1t\n",
            "^C\n"
          ]
        }
      ],
      "source": [
        "!vim nombres.sh"
      ]
    },
    {
      "cell_type": "markdown",
      "source": [
        "# 8. Exhibiendo el inicio y el fin de los archivos"
      ],
      "metadata": {
        "id": "NaMqZIemSP3_"
      }
    },
    {
      "cell_type": "code",
      "source": [
        "!head -n 2 nombres.sh"
      ],
      "metadata": {
        "colab": {
          "base_uri": "https://localhost:8080/"
        },
        "id": "T61OeJbHR3gJ",
        "outputId": "8df8cc9c-2527-471e-eaac-41a326e6a7bf"
      },
      "execution_count": null,
      "outputs": [
        {
          "output_type": "stream",
          "name": "stdout",
          "text": [
            " #!/bin/bash\n",
            "# Iterar sobre una lista de nombres\n"
          ]
        }
      ]
    },
    {
      "cell_type": "code",
      "source": [
        "!tail -n 3 nombres.sh"
      ],
      "metadata": {
        "colab": {
          "base_uri": "https://localhost:8080/"
        },
        "id": "T99tt7NlTucj",
        "outputId": "ccdc3d75-55ac-46a4-fd41-528b7dd5d5ac"
      },
      "execution_count": null,
      "outputs": [
        {
          "output_type": "stream",
          "name": "stdout",
          "text": [
            "do\n",
            "    echo $nombre\n",
            "done\n"
          ]
        }
      ]
    },
    {
      "cell_type": "markdown",
      "source": [
        "# 9. Comprimir y descomprimir archivos"
      ],
      "metadata": {
        "id": "zNT1H5nDUO4f"
      }
    },
    {
      "cell_type": "code",
      "source": [
        "!zip comprimidos.zip *sh*"
      ],
      "metadata": {
        "colab": {
          "base_uri": "https://localhost:8080/"
        },
        "id": "DQS0shKmT92x",
        "outputId": "249efdec-0940-4b5b-864e-63cd12fc3e51"
      },
      "execution_count": null,
      "outputs": [
        {
          "output_type": "stream",
          "name": "stdout",
          "text": [
            "  adding: dados.sh (deflated 39%)\n",
            "  adding: existe.bash (deflated 39%)\n",
            "  adding: nombres.sh (deflated 22%)\n",
            "  adding: suma.bash (deflated 32%)\n"
          ]
        }
      ]
    },
    {
      "cell_type": "code",
      "source": [
        "!unzip comprimidos.zip"
      ],
      "metadata": {
        "colab": {
          "base_uri": "https://localhost:8080/"
        },
        "id": "ziIjf8yiUi41",
        "outputId": "a1443937-3666-4834-b989-240e4d76d472"
      },
      "execution_count": null,
      "outputs": [
        {
          "output_type": "stream",
          "name": "stdout",
          "text": [
            "Archive:  comprimidos.zip\n",
            "replace dados.sh? [y]es, [n]o, [A]ll, [N]one, [r]ename: n\n",
            "replace existe.bash? [y]es, [n]o, [A]ll, [N]one, [r]ename: n\n",
            "replace nombres.sh? [y]es, [n]o, [A]ll, [N]one, [r]ename: N\n"
          ]
        }
      ]
    },
    {
      "cell_type": "markdown",
      "source": [
        "# 10. Directorios"
      ],
      "metadata": {
        "id": "O7i5HXSdVa8p"
      }
    },
    {
      "cell_type": "code",
      "source": [
        "!ls /"
      ],
      "metadata": {
        "colab": {
          "base_uri": "https://localhost:8080/"
        },
        "id": "lV-ckSlYU8Ul",
        "outputId": "300c5d7f-bddb-4502-99f8-75ed59c1b989"
      },
      "execution_count": null,
      "outputs": [
        {
          "output_type": "stream",
          "name": "stdout",
          "text": [
            "bin\t\t\t    datalab  kaggle  libx32\t\t       opt   sbin  tools\n",
            "boot\t\t\t    dev      lib     media\t\t       proc  srv   usr\n",
            "content\t\t\t    etc      lib32   mnt\t\t       root  sys   var\n",
            "cuda-keyring_1.0-1_all.deb  home     lib64   NGC-DL-CONTAINER-LICENSE  run   tmp\n"
          ]
        }
      ]
    },
    {
      "cell_type": "markdown",
      "source": [
        "Cuando listamos `ls /`, estamos verificando el contenido del directorio \"raíz/\" es un directorio principal, podríamos decir que es el directorio principal del sistema, ya que contiene todos los demás. Quienes vienen de Windows pueden pensar en `/` como `C:` o en el ícono \"Mi PC\". Cada directorio dentro del raíz (`/`) se llama subdirectorio. El directorio `/bin` almacena archivos ejecutables binarios, que son los comandos básicos para la ejecución del sistema, como por ejemplo `ls` y `cd`. Este directorio es público, es decir, cualquier usuario puede usar los ejecutables que están allí. `/boot` contiene archivos de arranque del sistema, entre los cuales se encuentra el gestor de arranque del sistema. Este es un programa que carga el sistema operativo durante el arranque. El directorio `/dev` mantiene la ruta de los dispositivos instalados en el sistema. Todo el hardware reconocido por el sistema se representa mediante un archivo en este directorio, por ejemplo, el disco duro y la tarjeta de vídeo. En `/etc` se encuentran los archivos de configuración del sistema, scripts de inicio, configuraciones predeterminadas para usuarios y archivos de configuración de programas instalados. Veremos mucho este directorio cuando estemos instalando aplicaciones. `/lib` contiene las bibliotecas y módulos del kernel que son esenciales para el funcionamiento del sistema. Las bibliotecas son funciones compartidas que pueden ser utilizadas por varios programas. `/media` es el directorio responsable de mantener los puntos de montaje, es decir, cuando insertamos una unidad USB, estará disponible temporalmente en este directorio mientras la usemos. `/mnt` se utiliza para el montaje temporal de sistemas de archivos, es decir, un disco duro o una unidad USB. Este directorio se puede utilizar de la misma manera que `/media`.\n",
        "\n",
        "En el directorio `/opt` es donde normalmente instalamos programas que no forman parte oficialmente de la distribución. Por ejemplo, Google Chrome. En `/sbin` se encuentran los comandos utilizados para la inicialización, reparación y restauración del sistema. Es un directorio de comandos esenciales, pero con la diferencia de que solo un usuario puede usarlo, el usuario root. Veremos más sobre este usuario en el próximo capítulo. `/srv` mantiene datos de servicios disponibles en el sistema y puede ser accedido de manera general (por todos los usuarios), por ejemplo, el servidor web. En `/tmp` se almacenan archivos temporales, información que debe mantenerse hasta el final de una operación, como una descarga en curso o archivos de caché de vídeos de YouTube. En `/usr` se mantienen programas que no son esenciales para el funcionamiento del sistema. Programas instalados por el usuario, como editores, programas gráficos y administradores de ventanas, son ejemplos de esto. El directorio `/var` contiene archivos de datos variables, es decir, archivos que pueden aumentar de tamaño, como archivos de registro, archivos de bases de datos y mensajes de correo electrónico."
      ],
      "metadata": {
        "id": "bZVGZkrpVas0"
      }
    },
    {
      "cell_type": "markdown",
      "source": [
        "# 11. Entendiendo los procesos"
      ],
      "metadata": {
        "id": "HqduHx34YTP1"
      }
    },
    {
      "cell_type": "code",
      "source": [
        "!ps"
      ],
      "metadata": {
        "colab": {
          "base_uri": "https://localhost:8080/"
        },
        "id": "BkmQVcOyYeZW",
        "outputId": "389d8065-e5e7-40e2-caa6-06d9e1ea81f0"
      },
      "execution_count": null,
      "outputs": [
        {
          "output_type": "stream",
          "name": "stdout",
          "text": [
            "    PID TTY          TIME CMD\n",
            "      1 ?        00:00:00 docker-init\n",
            "      6 ?        00:00:21 node\n",
            "     16 ?        00:00:07 oom_monitor.sh\n",
            "     18 ?        00:00:00 run.sh\n",
            "     20 ?        00:00:04 kernel_manager_\n",
            "     22 ?        00:00:00 tail\n",
            "     60 ?        00:00:07 python3 <defunct>\n",
            "     61 ?        00:00:01 colab-fileshim.\n",
            "     79 ?        00:00:13 jupyter-noteboo\n",
            "     80 ?        00:00:05 dap_multiplexer\n",
            "    140 ?        00:01:00 python3\n",
            "    178 ?        00:00:09 python3\n",
            "  48707 ?        00:00:00 language_servic\n",
            "  48712 ?        00:00:11 node\n",
            "  51283 ?        00:00:00 sleep\n",
            "  51284 ?        00:00:00 ps\n"
          ]
        }
      ]
    },
    {
      "cell_type": "markdown",
      "source": [
        "Como hemos visto, un proceso se identifica por su PID (Identificador de Proceso). Este número es asignado por el sistema a cada proceso, cada PID es único, por lo que nunca verás dos o más procesos usando el mismo PID.\n",
        "\n",
        "Cada proceso también tiene un propietario de usuario, de esta manera, el sistema verifica los permisos y sabe qué usuario puede ejecutar un determinado proceso. La identificación de propietarios se realiza mediante los números UID (Identificador de Usuario) y GID (Identificador de Grupo).\n",
        "\n",
        "En Linux, cada usuario tiene un número de identificación de la misma manera que los procesos. Este número es conocido como UID (User Identifier) y GID (Group Identifier)."
      ],
      "metadata": {
        "id": "chbDKe8jZ5ri"
      }
    },
    {
      "cell_type": "code",
      "source": [
        "!ps aux"
      ],
      "metadata": {
        "colab": {
          "base_uri": "https://localhost:8080/"
        },
        "id": "r6J9E8r5YjG4",
        "outputId": "ea1adf1b-250f-499c-c27c-3b8e45820b73"
      },
      "execution_count": null,
      "outputs": [
        {
          "output_type": "stream",
          "name": "stdout",
          "text": [
            "USER         PID %CPU %MEM    VSZ   RSS TTY      STAT START   TIME COMMAND\n",
            "root           1  0.0  0.0   1076     8 ?        Ss   15:54   0:00 /sbin/docker-init -- /datalab/run\n",
            "root           6  0.1  0.4 895812 60408 ?        Sl   15:54   0:21 /tools/node/bin/node /datalab/web\n",
            "root          16  0.0  0.0   7376  3388 ?        S    15:54   0:07 /bin/bash -e /usr/local/colab/bin\n",
            "root          18  0.0  0.0   7376  1908 ?        S    15:54   0:00 /bin/bash -e /datalab/run.sh\n",
            "root          20  0.0  0.1 1236164 13476 ?       Sl   15:54   0:04 /usr/colab/bin/kernel_manager_pro\n",
            "root          22  0.0  0.0   5808  1044 ?        Ss   15:54   0:00 tail -n +0 -F /root/.config/Googl\n",
            "root          60  0.0  0.0      0     0 ?        Z    15:54   0:07 [python3] <defunct>\n",
            "root          61  0.0  0.4  68984 53936 ?        S    15:54   0:01 python3 /usr/local/bin/colab-file\n",
            "root          79  0.1  0.8 358964 114808 ?       Sl   15:54   0:13 /usr/bin/python3 /usr/local/bin/j\n",
            "root          80  0.0  0.0 1228568 5916 ?        Sl   15:54   0:05 /usr/local/bin/dap_multiplexer --\n",
            "root         140  0.4  1.5 1305800 208256 ?      Ssl  15:54   1:00 /usr/bin/python3 -m colab_kernel_\n",
            "root         178  0.0  0.1 540428 14652 ?        Sl   15:54   0:09 /usr/bin/python3 /usr/local/lib/p\n",
            "root       48707  0.0  0.1 1239012 18984 ?       Sl   19:16   0:00 /usr/colab/bin/language_service -\n",
            "root       48712  2.0  1.0 901124 145444 ?       Sl   19:16   0:13 node /datalab/web/pyright/pyright\n",
            "root       51320  0.0  0.0   5776  1004 ?        S    19:27   0:00 sleep 1\n",
            "root       51321  0.0  0.0  10076  1572 ?        R    19:27   0:00 ps aux\n"
          ]
        }
      ]
    },
    {
      "cell_type": "markdown",
      "source": [
        "Así como todos los comandos que hemos visto hasta ahora, `ps` también tiene opciones. Veremos algunas de ellas:\n",
        "\n",
        "\n",
        "- `a`: lista todos los procesos existentes.\n",
        "- `u`: muestra el nombre del usuario propietario del proceso.\n",
        "- `x`: lista los procesos que no tienen relación con el terminal.\n",
        "- `m`: muestra la cantidad de memoria consumida por cada proceso."
      ],
      "metadata": {
        "id": "BJ5Pa2khZCVS"
      }
    },
    {
      "cell_type": "markdown",
      "source": [
        "Podemos contar todos los procesos en ejecución haciendo uso de un comando que aún no hemos probado: `wc`. Básicamente lo que hace es contar las líneas de un archivo o del contenido que se muestra en el terminal. Para esto, utilizamos la opción `wc -l`. Para indicar al comando que solo queremos la cantidad de líneas, ejecutaremos `ps aux` en combinación con `wc -l`, utilizando el `|` (pipe), que es una forma de encadenar procesos."
      ],
      "metadata": {
        "id": "Y10O7cwtaQXU"
      }
    },
    {
      "cell_type": "code",
      "source": [
        "!ps aux | wc -l"
      ],
      "metadata": {
        "colab": {
          "base_uri": "https://localhost:8080/"
        },
        "id": "ME2yVHElZw4F",
        "outputId": "4ca0572c-04af-4e0f-88df-64e1ddfaeb69"
      },
      "execution_count": null,
      "outputs": [
        {
          "output_type": "stream",
          "name": "stdout",
          "text": [
            "19\n"
          ]
        }
      ]
    },
    {
      "cell_type": "markdown",
      "source": [
        "Lo que el `|` hizo fue encadenar la ejecución del comando `ps aux` al comando `wc -l`. De esta manera, tomó el resultado generado por el primer comando y lo pasó al segundo. La salida de `wc` nos muestra cuántos procesos en total tenemos ejecutándose en nuestra computadora.\n",
        "\n",
        "Otro comando que aún no hemos visto es `grep`, que busca una expresión que puede ser una palabra o frase en un archivo, o también puede funcionar como filtro en la salida de comandos. Lo usaremos para filtrar la lista de procesos generada con `ps -A` y buscar todos los procesos de Apache que estén en ejecución. La opción `-A` del comando `ps` es para mostrar todos los procesos en ejecución pero sin detalles."
      ],
      "metadata": {
        "id": "zqNJLs4mabjL"
      }
    },
    {
      "cell_type": "code",
      "source": [
        "!ps -A | grep apache"
      ],
      "metadata": {
        "colab": {
          "base_uri": "https://localhost:8080/"
        },
        "id": "iCooqkV0ab-P",
        "outputId": "13ab7d7c-d8a4-4092-d71c-cb4a207c3044"
      },
      "execution_count": null,
      "outputs": [
        {
          "output_type": "stream",
          "name": "stdout",
          "text": [
            "    PID TTY          TIME CMD\n",
            "      1 ?        00:00:00 docker-init\n",
            "      6 ?        00:00:22 node\n",
            "     16 ?        00:00:08 oom_monitor.sh\n",
            "     18 ?        00:00:00 run.sh\n",
            "     20 ?        00:00:04 kernel_manager_\n",
            "     22 ?        00:00:00 tail\n",
            "     60 ?        00:00:07 python3 <defunct>\n",
            "     61 ?        00:00:01 colab-fileshim.\n",
            "     79 ?        00:00:14 jupyter-noteboo\n",
            "     80 ?        00:00:05 dap_multiplexer\n",
            "    140 ?        00:01:02 python3\n",
            "    178 ?        00:00:09 python3\n",
            "  52621 ?        00:00:00 language_servic\n",
            "  52627 ?        00:00:05 node\n",
            "  53373 ?        00:00:00 sleep\n",
            "  53374 ?        00:00:00 ps\n"
          ]
        }
      ]
    },
    {
      "cell_type": "code",
      "source": [
        "!top"
      ],
      "metadata": {
        "colab": {
          "base_uri": "https://localhost:8080/"
        },
        "id": "sfBt6lNBasdt",
        "outputId": "1349e15c-c6d5-4a41-c3bc-be8b776df7b4"
      },
      "execution_count": null,
      "outputs": [
        {
          "output_type": "stream",
          "name": "stdout",
          "text": [
            "\u001b[?1h\u001b=\u001b[H\u001b[2J\u001b[mtop - 19:36:32 up  3:42,  0 users,  load average: 0.32, 0.27, 0.25\u001b[m\u001b[m\u001b[m\u001b[m\u001b[K\n",
            "Tasks:\u001b[m\u001b[m\u001b[1m  16 \u001b[m\u001b[mtotal,\u001b[m\u001b[m\u001b[1m   1 \u001b[m\u001b[mrunning,\u001b[m\u001b[m\u001b[1m  14 \u001b[m\u001b[msleeping,\u001b[m\u001b[m\u001b[1m   0 \u001b[m\u001b[mstopped,\u001b[m\u001b[m\u001b[1m   1 \u001b[m\u001b[mzombie\u001b[m\u001b[m\u001b[m\u001b[m\u001b[K\n",
            "%Cpu(s):\u001b[m\u001b[m\u001b[1m  3.4 \u001b[m\u001b[mus,\u001b[m\u001b[m\u001b[1m  3.4 \u001b[m\u001b[msy,\u001b[m\u001b[m\u001b[1m  0.0 \u001b[m\u001b[mni,\u001b[m\u001b[m\u001b[1m 93.1 \u001b[m\u001b[mid,\u001b[m\u001b[m\u001b[1m  0.0 \u001b[m\u001b[mwa,\u001b[m\u001b[m\u001b[1m  0.0 \u001b[m\u001b[mhi,\u001b[m\u001b[m\u001b[1m  0.0 \u001b[m\u001b[msi,\u001b[m\u001b[m\u001b[1m  0.0 \u001b[m\u001b[mst\u001b[m\u001b[m\u001b[m\u001b[m\u001b[K\n",
            "MiB Mem :\u001b[m\u001b[m\u001b[1m  12979.0 \u001b[m\u001b[mtotal,\u001b[m\u001b[m\u001b[1m   9860.7 \u001b[m\u001b[mfree,\u001b[m\u001b[m\u001b[1m    662.1 \u001b[m\u001b[mused,\u001b[m\u001b[m\u001b[1m   2456.2 \u001b[m\u001b[mbuff/cache\u001b[m\u001b[m\u001b[m\u001b[m\u001b[K\n",
            "MiB Swap:\u001b[m\u001b[m\u001b[1m      0.0 \u001b[m\u001b[mtotal,\u001b[m\u001b[m\u001b[1m      0.0 \u001b[m\u001b[mfree,\u001b[m\u001b[m\u001b[1m      0.0 \u001b[m\u001b[mused.\u001b[m\u001b[m\u001b[1m  12028.8 \u001b[m\u001b[mavail Mem \u001b[m\u001b[m\u001b[m\u001b[m\u001b[K\n",
            "\u001b[K\n",
            "\u001b[7m    PID USER      PR  NI    VIRT    RES    SHR S  %CPU  %MEM     TIME+ COMMAND                      \u001b[m\u001b[m\u001b[K\n",
            "\u001b[m      1 root      20   0    1076      8      0 S   0.0   0.0   0:00.54 docker-init                  \u001b[m\u001b[m\u001b[K\n",
            "\u001b[m      6 root      20   0  895812  60384  31076 S   0.0   0.5   0:22.50 node                         \u001b[m\u001b[m\u001b[K\n",
            "\u001b[m     16 root      20   0    7376   3388   3084 S   0.0   0.0   0:08.02 oom_monitor.sh               \u001b[m\u001b[m\u001b[K\n",
            "\u001b[m     18 root      20   0    7376   1908   1620 S   0.0   0.0   0:00.00 run.sh                       \u001b[m\u001b[m\u001b[K\n",
            "\u001b[m     20 root      20   0 1236164  13332   7920 S   0.0   0.1   0:04.40 kernel_manager_              \u001b[m\u001b[m\u001b[K\n",
            "\u001b[m     22 root      20   0    5808   1044    952 S   0.0   0.0   0:00.92 tail                         \u001b[m\u001b[m\u001b[K\n",
            "\u001b[m     60 root      20   0       0      0      0 Z   0.0   0.0   0:07.81 python3                      \u001b[m\u001b[m\u001b[K\n",
            "\u001b[m     61 root      20   0   68984  53936  18772 S   0.0   0.4   0:01.41 colab-fileshim.              \u001b[m\u001b[m\u001b[K\n",
            "\u001b[m     79 root      20   0  358964 114808  27292 S   0.0   0.9   0:14.39 jupyter-noteboo              \u001b[m\u001b[m\u001b[K\n",
            "\u001b[m     80 root      20   0 1228568   5808   3032 S   0.0   0.0   0:05.88 dap_multiplexer              \u001b[m\u001b[m\u001b[K\n",
            "\u001b[m    140 root      20   0 1306824 208784  71160 S   0.0   1.6   1:02.45 python3                      \u001b[m\u001b[m\u001b[K\n",
            "\u001b[m    178 root      20   0  540428  14652   4904 S   0.0   0.1   0:09.90 python3                      \u001b[m\u001b[m\u001b[K\n",
            "\u001b[m  52621 root      20   0 1238756  17856   9908 S   0.0   0.1   0:00.16 language_servic              \u001b[m\u001b[m\u001b[K\n",
            "\u001b[m  52627 root      20   0  896772 114080  30316 S   0.0   0.9   0:07.74 node                         \u001b[m\u001b[m\u001b[K\n",
            "\u001b[m  53574 root      20   0    5776   1004    912 S   0.0   0.0   0:00.00 sleep                        \u001b[m\u001b[m\u001b[K\n",
            "\u001b[m\u001b[1m  53575 root      20   0   10352   3476   3120 R   0.0   0.0   0:00.00 top                          \u001b[m\u001b[m\u001b[K\n",
            "\u001b[J\u001b[H\u001b[mtop - 19:36:35 up  3:42,  0 users,  load average: 0.29, 0.27, 0.25\u001b[m\u001b[m\u001b[m\u001b[m\u001b[K\n",
            "\n",
            "%Cpu(s):\u001b[m\u001b[m\u001b[1m  1.7 \u001b[m\u001b[mus,\u001b[m\u001b[m\u001b[1m  1.7 \u001b[m\u001b[msy,\u001b[m\u001b[m\u001b[1m  0.0 \u001b[m\u001b[mni,\u001b[m\u001b[m\u001b[1m 96.3 \u001b[m\u001b[mid,\u001b[m\u001b[m\u001b[1m  0.0 \u001b[m\u001b[mwa,\u001b[m\u001b[m\u001b[1m  0.0 \u001b[m\u001b[mhi,\u001b[m\u001b[m\u001b[1m  0.2 \u001b[m\u001b[msi,\u001b[m\u001b[m\u001b[1m  0.2 \u001b[m\u001b[mst\u001b[m\u001b[m\u001b[m\u001b[m\u001b[K\n",
            "\n",
            "\n",
            "\u001b[K\n",
            "\n",
            "\u001b[m    140 root      20   0 1306824 208784  71160 S   0.7   1.6   1:02.47 python3                      \u001b[m\u001b[m\u001b[K\n",
            "\u001b[m      6 root      20   0  895812  60644  31076 S   0.3   0.5   0:22.51 node                         \u001b[m\u001b[m\u001b[K\n",
            "\u001b[m     20 root      20   0 1236164  13332   7920 S   0.3   0.1   0:04.41 kernel_manager_              \u001b[m\u001b[m\u001b[K\n",
            "\u001b[m     79 root      20   0  358964 114808  27292 S   0.3   0.9   0:14.40 jupyter-noteboo              \u001b[m\u001b[m\u001b[K\n",
            "\u001b[m     80 root      20   0 1228568   5808   3032 S   0.3   0.0   0:05.89 dap_multiplexer              \u001b[m\u001b[m\u001b[K\n",
            "\u001b[m      1 root      20   0    1076      8      0 S   0.0   0.0   0:00.54 docker-init                  \u001b[m\u001b[m\u001b[K\n",
            "\u001b[m     16 root      20   0    7376   3388   3084 S   0.0   0.0   0:08.02 oom_monitor.sh               \u001b[m\u001b[m\u001b[K\n",
            "\u001b[m     18 root      20   0    7376   1908   1620 S   0.0   0.0   0:00.00 run.sh                       \u001b[m\u001b[m\u001b[K\n",
            "\u001b[m     22 root      20   0    5808   1044    952 S   0.0   0.0   0:00.92 tail                         \u001b[m\u001b[m\u001b[K\n",
            "\u001b[m     60 root      20   0       0      0      0 Z   0.0   0.0   0:07.81 python3                      \u001b[m\u001b[m\u001b[K\n",
            "\u001b[m     61 root      20   0   68984  53936  18772 S   0.0   0.4   0:01.41 colab-fileshim.              \u001b[m\u001b[m\u001b[K\n",
            "\n",
            "\n",
            "\n",
            "\u001b[m\u001b[1m  53575 root      20   0   10352   3476   3120 R   0.0   0.0   0:00.00 top                          \u001b[m\u001b[m\u001b[K\n",
            "\u001b[m  53587 root      20   0    5776   1048    956 S   0.0   0.0   0:00.00 sleep                        \u001b[m\u001b[m\u001b[K\n",
            "\u001b[J\u001b[H\u001b[mtop - 19:36:38 up  3:42,  0 users,  load average: 0.27, 0.26, 0.25\u001b[m\u001b[m\u001b[m\u001b[m\u001b[K\n",
            "\n",
            "%Cpu(s):\u001b[m\u001b[m\u001b[1m  1.7 \u001b[m\u001b[mus,\u001b[m\u001b[m\u001b[1m  1.5 \u001b[m\u001b[msy,\u001b[m\u001b[m\u001b[1m  0.0 \u001b[m\u001b[mni,\u001b[m\u001b[m\u001b[1m 96.5 \u001b[m\u001b[mid,\u001b[m\u001b[m\u001b[1m  0.2 \u001b[m\u001b[mwa,\u001b[m\u001b[m\u001b[1m  0.0 \u001b[m\u001b[mhi,\u001b[m\u001b[m\u001b[1m  0.2 \u001b[m\u001b[msi,\u001b[m\u001b[m\u001b[1m  0.0 \u001b[m\u001b[mst\u001b[m\u001b[m\u001b[m\u001b[m\u001b[K\n",
            "MiB Mem :\u001b[m\u001b[m\u001b[1m  12979.0 \u001b[m\u001b[mtotal,\u001b[m\u001b[m\u001b[1m   9860.7 \u001b[m\u001b[mfree,\u001b[m\u001b[m\u001b[1m    662.1 \u001b[m\u001b[mused,\u001b[m\u001b[m\u001b[1m   2456.3 \u001b[m\u001b[mbuff/cache\u001b[m\u001b[m\u001b[m\u001b[m\u001b[K\n",
            "MiB Swap:\u001b[m\u001b[m\u001b[1m      0.0 \u001b[m\u001b[mtotal,\u001b[m\u001b[m\u001b[1m      0.0 \u001b[m\u001b[mfree,\u001b[m\u001b[m\u001b[1m      0.0 \u001b[m\u001b[mused.\u001b[m\u001b[m\u001b[1m  12028.9 \u001b[m\u001b[mavail Mem \u001b[m\u001b[m\u001b[m\u001b[m\u001b[K\n",
            "\u001b[K\n",
            "\n",
            "\u001b[m      6 root      20   0  895812  60900  31076 S   0.7   0.5   0:22.53 node                         \u001b[m\u001b[m\u001b[K\n",
            "\u001b[m    140 root      20   0 1306824 208784  71160 S   0.7   1.6   1:02.49 python3                      \u001b[m\u001b[m\u001b[K\n",
            "\u001b[m     20 root      20   0 1236164  13332   7920 S   0.3   0.1   0:04.42 kernel_manager_              \u001b[m\u001b[m\u001b[K\n",
            "\u001b[m    178 root      20   0  540428  14652   4904 S   0.3   0.1   0:09.91 python3                      \u001b[m\u001b[m\u001b[K\n",
            "\u001b[m      1 root      20   0    1076      8      0 S   0.0   0.0   0:00.54 docker-init                  \u001b[m\u001b[m\u001b[K\n",
            "\u001b[m     16 root      20   0    7376   3388   3084 S   0.0   0.0   0:08.02 oom_monitor.sh               \u001b[m\u001b[m\u001b[K\n",
            "\u001b[m     18 root      20   0    7376   1908   1620 S   0.0   0.0   0:00.00 run.sh                       \u001b[m\u001b[m\u001b[K\n",
            "\u001b[m     22 root      20   0    5808   1044    952 S   0.0   0.0   0:00.92 tail                         \u001b[m\u001b[m\u001b[K\n",
            "\u001b[m     60 root      20   0       0      0      0 Z   0.0   0.0   0:07.81 python3                      \u001b[m\u001b[m\u001b[K\n",
            "\u001b[m     61 root      20   0   68984  53936  18772 S   0.0   0.4   0:01.41 colab-fileshim.              \u001b[m\u001b[m\u001b[K\n",
            "\u001b[m     79 root      20   0  358964 114808  27292 S   0.0   0.9   0:14.40 jupyter-noteboo              \u001b[m\u001b[m\u001b[K\n",
            "\u001b[m     80 root      20   0 1228568   5808   3032 S   0.0   0.0   0:05.89 dap_multiplexer              \u001b[m\u001b[m\u001b[K\n",
            "\n",
            "\n",
            "\n",
            "\u001b[m  53599 root      20   0    5776   1048    956 S   0.0   0.0   0:00.00 sleep                        \u001b[m\u001b[m\u001b[K\n",
            "\u001b[J\u001b[H\u001b[mtop - 19:36:41 up  3:42,  0 users,  load average: 0.27, 0.26, 0.25\u001b[m\u001b[m\u001b[m\u001b[m\u001b[K\n",
            "\n",
            "%Cpu(s):\u001b[m\u001b[m\u001b[1m 18.5 \u001b[m\u001b[mus,\u001b[m\u001b[m\u001b[1m 11.7 \u001b[m\u001b[msy,\u001b[m\u001b[m\u001b[1m  0.0 \u001b[m\u001b[mni,\u001b[m\u001b[m\u001b[1m 69.8 \u001b[m\u001b[mid,\u001b[m\u001b[m\u001b[1m  0.0 \u001b[m\u001b[mwa,\u001b[m\u001b[m\u001b[1m  0.0 \u001b[m\u001b[mhi,\u001b[m\u001b[m\u001b[1m  0.0 \u001b[m\u001b[msi,\u001b[m\u001b[m\u001b[1m  0.0 \u001b[m\u001b[mst\u001b[m\u001b[m\u001b[m\u001b[m\u001b[K\n",
            "MiB Mem :\u001b[m\u001b[m\u001b[1m  12979.0 \u001b[m\u001b[mtotal,\u001b[m\u001b[m\u001b[1m   9857.5 \u001b[m\u001b[mfree,\u001b[m\u001b[m\u001b[1m    665.2 \u001b[m\u001b[mused,\u001b[m\u001b[m\u001b[1m   2456.3 \u001b[m\u001b[mbuff/cache\u001b[m\u001b[m\u001b[m\u001b[m\u001b[K\n",
            "MiB Swap:\u001b[m\u001b[m\u001b[1m      0.0 \u001b[m\u001b[mtotal,\u001b[m\u001b[m\u001b[1m      0.0 \u001b[m\u001b[mfree,\u001b[m\u001b[m\u001b[1m      0.0 \u001b[m\u001b[mused.\u001b[m\u001b[m\u001b[1m  12025.8 \u001b[m\u001b[mavail Mem \u001b[m\u001b[m\u001b[m\u001b[m\u001b[K\n",
            "\u001b[K\n",
            "\n",
            "\u001b[m    140 root      20   0 1306824 208784  71160 S   0.7   1.6   1:02.51 python3                      \u001b[m\u001b[m\u001b[K\n",
            "\u001b[m     16 root      20   0    7376   3388   3084 S   0.3   0.0   0:08.03 oom_monitor.sh               \u001b[m\u001b[m\u001b[K\n",
            "\u001b[m     80 root      20   0 1228568   5808   3032 S   0.3   0.0   0:05.90 dap_multiplexer              \u001b[m\u001b[m\u001b[K\n",
            "\u001b[m      1 root      20   0    1076      8      0 S   0.0   0.0   0:00.54 docker-init                  \u001b[m\u001b[m\u001b[K\n",
            "\u001b[m      6 root      20   0  895812  60236  31076 S   0.0   0.5   0:22.53 node                         \u001b[m\u001b[m\u001b[K\n",
            "\u001b[m     18 root      20   0    7376   1908   1620 S   0.0   0.0   0:00.00 run.sh                       \u001b[m\u001b[m\u001b[K\n",
            "\u001b[m     20 root      20   0 1236164  13332   7920 S   0.0   0.1   0:04.42 kernel_manager_              \u001b[m\u001b[m\u001b[K\n",
            "\n",
            "\n",
            "\n",
            "\n",
            "\u001b[m    178 root      20   0  540428  14652   4904 S   0.0   0.1   0:09.91 python3                      \u001b[m\u001b[m\u001b[K\n",
            "\n",
            "\n",
            "\n",
            "\u001b[m  53611 root      20   0    5776   1048    956 S   0.0   0.0   0:00.00 sleep                        \u001b[m\u001b[m\u001b[K\n",
            "\u001b[J\u001b[?1l\u001b>\u001b[25;1H\n",
            "\u001b[K"
          ]
        }
      ]
    },
    {
      "cell_type": "code",
      "source": [
        "#!top -u usuario"
      ],
      "metadata": {
        "id": "chUkaTI2a7rH"
      },
      "execution_count": null,
      "outputs": []
    },
    {
      "cell_type": "code",
      "source": [
        "#!htop"
      ],
      "metadata": {
        "colab": {
          "base_uri": "https://localhost:8080/"
        },
        "id": "XohnUTeMaxZt",
        "outputId": "9b31ca85-99ca-4aa1-f2fb-92fbd9de7744"
      },
      "execution_count": null,
      "outputs": [
        {
          "output_type": "stream",
          "name": "stdout",
          "text": [
            "/bin/bash: line 1: htop: command not found\n"
          ]
        }
      ]
    },
    {
      "cell_type": "markdown",
      "source": [
        "# 12. Introducción a Shell Script"
      ],
      "metadata": {
        "id": "8h1J5PRfbjWO"
      }
    },
    {
      "cell_type": "markdown",
      "source": [
        "Un script es un programa no compilado que se envía a un procesador. Luego, un intérprete lee su código y lo traduce, de modo que el procesador entiende sus instrucciones, que serán ejecutadas posteriormente.\n",
        "\n",
        "Shell Script es el lenguaje de programación utilizado por el shell; en este caso, el shell es nuestro intérprete que leerá nuestros programas y dirá al procesador qué hacer.\n",
        "\n",
        "Los programas en Shell Script se escriben para tareas administrativas y repetitivas en Linux. Al hacer esto, automatizamos procedimientos a través de scripts. Veremos lo básico de Shell Script en este capítulo y, al final, tendremos un script simple para automatizar una tarea de respaldo. Además, conoceremos algunos comandos nuevos ampliamente utilizados."
      ],
      "metadata": {
        "id": "1yZEoT-fb8Z8"
      }
    },
    {
      "cell_type": "markdown",
      "source": [
        "Mi primer script"
      ],
      "metadata": {
        "id": "YuIL_9A9bs4Z"
      }
    },
    {
      "cell_type": "code",
      "source": [
        "!mkdir ~/relatorio\n",
        "!ps aux > ~/relatorio/processos.txt\n",
        "!echo \"Programa executado com sucesso!\""
      ],
      "metadata": {
        "colab": {
          "base_uri": "https://localhost:8080/"
        },
        "id": "pp1VR-_lbi9H",
        "outputId": "2d05e3b4-dbda-41cd-a6ae-103e9a29c7c5"
      },
      "execution_count": null,
      "outputs": [
        {
          "output_type": "stream",
          "name": "stdout",
          "text": [
            "Programa executado com sucesso!\n"
          ]
        }
      ]
    },
    {
      "cell_type": "markdown",
      "source": [
        "Nuestro primer programa es un script muy simple. Las líneas que comienzan con `#` son comentarios, es decir, se ignoran durante la ejecución del script. Sin embargo, la primera línea, que parece un comentario, en realidad es un indicador para informar qué programa ejecutará el script. En nuestro ejemplo, es el programa bash que se encuentra en `/bin`.\n",
        "\n",
        "Básicamente, lo que hace el script es crear una carpeta llamada `relatorio` en el directorio home de nuestro usuario. Luego, ejecuta el comando `ps aux` para listar todos los procesos detalladamente. La salida de este comando se guarda en un archivo llamado `processos.txt` dentro de la carpeta que se creó. Finalmente, el programa emite un mensaje en el terminal informando que se ha \"ejecutado con éxito\"."
      ],
      "metadata": {
        "id": "KjYIcHd7cVU1"
      }
    },
    {
      "cell_type": "code",
      "source": [
        "# Ejecutando el script\n",
        "!ls -l nombres.sh"
      ],
      "metadata": {
        "colab": {
          "base_uri": "https://localhost:8080/"
        },
        "id": "_Jjk5T1wbrVH",
        "outputId": "8df07be1-6c9a-4cbc-f9b5-ea121239a377"
      },
      "execution_count": null,
      "outputs": [
        {
          "output_type": "stream",
          "name": "stdout",
          "text": [
            "-rw-r--r-- 1 root root 169 Mar  7 17:22 nombres.sh\n"
          ]
        }
      ]
    },
    {
      "cell_type": "code",
      "source": [
        "!./nombres.sh"
      ],
      "metadata": {
        "colab": {
          "base_uri": "https://localhost:8080/"
        },
        "id": "_nMqUnf9brSl",
        "outputId": "29143173-94c4-4c6d-b845-c75939cf5ab0"
      },
      "execution_count": null,
      "outputs": [
        {
          "output_type": "stream",
          "name": "stdout",
          "text": [
            "/bin/bash: line 1: ./nombres.sh: Permission denied\n"
          ]
        }
      ]
    },
    {
      "cell_type": "code",
      "source": [
        "!chmod 777 nombres.sh"
      ],
      "metadata": {
        "id": "-0dwwnn9dU1S"
      },
      "execution_count": null,
      "outputs": []
    },
    {
      "cell_type": "code",
      "source": [
        "!./nombres.sh"
      ],
      "metadata": {
        "colab": {
          "base_uri": "https://localhost:8080/"
        },
        "id": "gvvbOkR2brP9",
        "outputId": "051cf827-2488-4ff1-c875-7d97a9055a7b"
      },
      "execution_count": null,
      "outputs": [
        {
          "output_type": "stream",
          "name": "stdout",
          "text": [
            "Los nombres son:\n",
            "Juan\n",
            "María\n",
            "Carlos\n",
            "Ana\n"
          ]
        }
      ]
    },
    {
      "cell_type": "code",
      "source": [
        "# operaciones básicas\n",
        "\"\"\"\n",
        "#!/bin/bash\n",
        "echo \"Contando las líneas ...\"\n",
        "sleep 5\n",
        "LINHAS=`cat ~/relatorio/procesos.txt | wc -l`\n",
        "echo \"Existem $LINHAS no arquivo.\"\n",
        "\"\"\""
      ],
      "metadata": {
        "id": "zIfBbHQ-brNF"
      },
      "execution_count": null,
      "outputs": []
    },
    {
      "cell_type": "code",
      "source": [
        "# Estructuras de control\n",
        "\"\"\"\n",
        "#!/bin/bash\n",
        "echo \"Informe o nome do arquivo que deseja buscar:\"\n",
        "read ARQUIVO\n",
        "CONSULTA=$(ls ~ | grep $ARQUIVO)\n",
        "if [ -z $CONSULTA ]; then\n",
        "echo \"$ARQUIVO não foi encontrado!\"\n",
        "else\n",
        "echo \"Arquivo encontrado!\"\n",
        "fi\n",
        "\"\"\""
      ],
      "metadata": {
        "id": "Dna_LyHpeFU6"
      },
      "execution_count": null,
      "outputs": []
    },
    {
      "cell_type": "markdown",
      "source": [
        "# 13. Archivos de configuración"
      ],
      "metadata": {
        "id": "z-rHAqKZfU22"
      }
    },
    {
      "cell_type": "code",
      "source": [
        "# Personalización del Shell: PATH"
      ],
      "metadata": {
        "id": "ZRATFDjJeXS0"
      },
      "execution_count": null,
      "outputs": []
    },
    {
      "cell_type": "code",
      "source": [
        "# Creación de alias\n",
        "\"\"\"\n",
        "alias egrep='egrep --color=auto'\n",
        "alias fgrep='fgrep --color=auto'\n",
        "alias grep='grep --color=auto'\n",
        "alias l='ls -CF'\n",
        "alias la='ls -A'\n",
        "alias ll='ls -alF'\n",
        "alias ls='ls --color=auto'\n",
        "\"\"\""
      ],
      "metadata": {
        "id": "nLv1SB-UehGV"
      },
      "execution_count": null,
      "outputs": []
    },
    {
      "cell_type": "code",
      "source": [
        "# Archivos de configuración:\n",
        "#vim .bashrc\n",
        "#source .bashrc\n"
      ],
      "metadata": {
        "id": "toFkXTobepee"
      },
      "execution_count": null,
      "outputs": []
    }
  ],
  "metadata": {
    "colab": {
      "provenance": [],
      "collapsed_sections": [
        "zVoMTgMtLl5z",
        "NaMqZIemSP3_"
      ],
      "include_colab_link": true
    },
    "kernelspec": {
      "display_name": "Python 3",
      "name": "python3"
    },
    "language_info": {
      "name": "python"
    }
  },
  "nbformat": 4,
  "nbformat_minor": 0
}